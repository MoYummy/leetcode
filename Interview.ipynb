{
 "cells": [
  {
   "cell_type": "code",
   "execution_count": 1,
   "metadata": {},
   "outputs": [],
   "source": [
    "# https://leetcode.com/problemset/top-interview-questions/"
   ]
  },
  {
   "cell_type": "code",
   "execution_count": 2,
   "metadata": {},
   "outputs": [
    {
     "name": "stdout",
     "output_type": "stream",
     "text": [
      "[0, 1]\n"
     ]
    }
   ],
   "source": [
    "# 1, https://leetcode.com/problems/two-sum/\n",
    "\n",
    "from typing import List\n",
    "import json\n",
    "\n",
    "class Solution:\n",
    "    def twoSum(self, nums: List[int], target: int) -> List[int]:\n",
    "        d = {}\n",
    "        for i in range(0, len(nums)):\n",
    "            nj = target - nums[i]\n",
    "            if nj in d:\n",
    "                return [d[nj], i]\n",
    "            d[nums[i]] = i\n",
    "\n",
    "        return None\n",
    "\n",
    "def stringToIntegerList(input):\n",
    "    return json.loads(input)\n",
    "\n",
    "def integerListToString(nums, len_of_list=None):\n",
    "    if not len_of_list:\n",
    "        len_of_list = len(nums)\n",
    "    return json.dumps(nums[:len_of_list])\n",
    "\n",
    "def main():\n",
    "    import sys\n",
    "    import io\n",
    "    s = '''[2,7,11,15]\n",
    "    9'''\n",
    "    def readlines():\n",
    "        for line in s.splitlines():\n",
    "            yield line.strip('\\n')\n",
    "\n",
    "    lines = readlines()\n",
    "    while True:\n",
    "        try:\n",
    "            line = next(lines)\n",
    "            nums = stringToIntegerList(line);\n",
    "            line = next(lines)\n",
    "            target = int(line);\n",
    "            \n",
    "            ret = Solution().twoSum(nums, target)\n",
    "\n",
    "            out = integerListToString(ret);\n",
    "            print(out)\n",
    "        except StopIteration:\n",
    "            break\n",
    "\n",
    "main()"
   ]
  },
  {
   "cell_type": "code",
   "execution_count": null,
   "metadata": {},
   "outputs": [],
   "source": []
  }
 ],
 "metadata": {
  "kernelspec": {
   "display_name": "Python 3",
   "language": "python",
   "name": "python3"
  },
  "language_info": {
   "codemirror_mode": {
    "name": "ipython",
    "version": 3
   },
   "file_extension": ".py",
   "mimetype": "text/x-python",
   "name": "python",
   "nbconvert_exporter": "python",
   "pygments_lexer": "ipython3",
   "version": "3.8.1"
  }
 },
 "nbformat": 4,
 "nbformat_minor": 4
}
