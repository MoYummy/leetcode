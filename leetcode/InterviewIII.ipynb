{
 "cells": [
  {
   "cell_type": "code",
   "execution_count": 1,
   "metadata": {},
   "outputs": [],
   "source": [
    "# https://leetcode.com/problemset/top-interview-questions/\n",
    "\n",
    "from typing import List\n",
    "import json"
   ]
  },
  {
   "cell_type": "code",
   "execution_count": 2,
   "metadata": {},
   "outputs": [
    {
     "name": "stdout",
     "output_type": "stream",
     "text": [
      "[5, 4, 3, 2, 1]\n"
     ]
    }
   ],
   "source": [
    "# Problem 206, https://leetcode.com/problems/reverse-linked-list/\n",
    "\n",
    "# Definition for singly-linked list.\n",
    "class ListNode:\n",
    "    def __init__(self, val=0, next=None):\n",
    "        self.val = val\n",
    "        self.next = next\n",
    "\n",
    "class Solution:\n",
    "    def reverseList(self, head: ListNode) -> ListNode:\n",
    "        new_head, p = None, head\n",
    "        while p:\n",
    "            p_next = p.next\n",
    "            p.next, new_head, p = new_head, p, p_next\n",
    "        return new_head\n",
    "\n",
    "def stringToIntegerList(input):\n",
    "    return json.loads(input)\n",
    "\n",
    "def stringToListNode(input):\n",
    "    # Generate list from the input\n",
    "    numbers = stringToIntegerList(input)\n",
    "\n",
    "    # Now convert that list into linked list\n",
    "    dummyRoot = ListNode(0)\n",
    "    ptr = dummyRoot\n",
    "    for number in numbers:\n",
    "        ptr.next = ListNode(number)\n",
    "        ptr = ptr.next\n",
    "\n",
    "    ptr = dummyRoot.next\n",
    "    return ptr\n",
    "\n",
    "def listNodeToString(node):\n",
    "    if not node:\n",
    "        return \"[]\"\n",
    "\n",
    "    result = \"\"\n",
    "    while node:\n",
    "        result += str(node.val) + \", \"\n",
    "        node = node.next\n",
    "    return \"[\" + result[:-2] + \"]\"\n",
    "\n",
    "def main():\n",
    "    import sys\n",
    "    import io\n",
    "    s = '''[1,2,3,4,5]'''\n",
    "    def readlines():\n",
    "        for line in s.splitlines():\n",
    "            yield line.strip('\\n')\n",
    "\n",
    "    lines = readlines()\n",
    "    while True:\n",
    "        try:\n",
    "            line = next(lines)\n",
    "            head = stringToListNode(line);\n",
    "            \n",
    "            ret = Solution().reverseList(head)\n",
    "\n",
    "            out = listNodeToString(ret);\n",
    "            print(out)\n",
    "        except StopIteration:\n",
    "            break\n",
    "\n",
    "if __name__ == '__main__':\n",
    "    main()"
   ]
  },
  {
   "cell_type": "code",
   "execution_count": 3,
   "metadata": {},
   "outputs": [
    {
     "name": "stdout",
     "output_type": "stream",
     "text": [
      "9 [1, 1, 1, 1, 1, 1, 1, 1]\n",
      "2 [1, 1, 1, 1, 1, 1, 1, 1]\n",
      "5 [1, 1, 1, 2, 1, 1, 1, 1]\n",
      "3 [1, 1, 1, 2, 2, 1, 1, 1]\n",
      "7 [1, 1, 1, 2, 2, 3, 1, 1]\n",
      "101 [1, 1, 1, 2, 2, 3, 4, 1]\n",
      "18 [1, 1, 1, 2, 2, 3, 4, 4]\n",
      "4\n"
     ]
    }
   ],
   "source": [
    "# Problem 300, https://leetcode.com/problems/longest-increasing-subsequence/\n",
    "\n",
    "class Solution:\n",
    "    def lengthOfLIS(self, nums: List[int]) -> int:\n",
    "        n = len(nums)\n",
    "        if n == 0:\n",
    "            return 0\n",
    "        dp = [1 for i in range(0, n)]\n",
    "        for i in range(1, n):\n",
    "            m = 0\n",
    "            for j in range(0, i):\n",
    "                if nums[j] < nums[i]:\n",
    "                    m = max(m, dp[j])\n",
    "            dp[i] = m+1\n",
    "            print(nums[i], dp)\n",
    "        \n",
    "        return max(dp)\n",
    "\n",
    "def stringToIntegerList(input):\n",
    "    return json.loads(input)\n",
    "\n",
    "def main():\n",
    "    import sys\n",
    "    import io\n",
    "    s = '''[10,9,2,5,3,7,101,18]'''\n",
    "    def readlines():\n",
    "        for line in s.splitlines():\n",
    "            yield line.strip('\\n')\n",
    "\n",
    "    lines = readlines()\n",
    "    while True:\n",
    "        try:\n",
    "            line = next(lines)\n",
    "            nums = stringToIntegerList(line);\n",
    "            \n",
    "            ret = Solution().lengthOfLIS(nums)\n",
    "\n",
    "            out = str(ret);\n",
    "            print(out)\n",
    "        except StopIteration:\n",
    "            break\n",
    "\n",
    "if __name__ == '__main__':\n",
    "    main()"
   ]
  },
  {
   "cell_type": "code",
   "execution_count": null,
   "metadata": {},
   "outputs": [],
   "source": []
  }
 ],
 "metadata": {
  "kernelspec": {
   "display_name": "Python 3",
   "language": "python",
   "name": "python3"
  },
  "language_info": {
   "codemirror_mode": {
    "name": "ipython",
    "version": 3
   },
   "file_extension": ".py",
   "mimetype": "text/x-python",
   "name": "python",
   "nbconvert_exporter": "python",
   "pygments_lexer": "ipython3",
   "version": "3.8.0"
  }
 },
 "nbformat": 4,
 "nbformat_minor": 4
}
