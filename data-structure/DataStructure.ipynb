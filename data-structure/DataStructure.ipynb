{
 "cells": [
  {
   "cell_type": "code",
   "execution_count": 1,
   "metadata": {},
   "outputs": [
    {
     "name": "stdout",
     "output_type": "stream",
     "text": [
      "0.00020194053649902344 0.4875202178955078\n"
     ]
    }
   ],
   "source": [
    "def test_perf(x, op):\n",
    "    from time import time\n",
    "    start_time = time()\n",
    "    for i in range(1000):\n",
    "        op(x, i)\n",
    "    middle_time = time()\n",
    "    for i in range(1000 * 1000):\n",
    "        op(x, i)\n",
    "    end_time = time()\n",
    "    print(middle_time - start_time, end_time - middle_time)\n",
    "    \n",
    "\n",
    "list_perf = []\n",
    "single_operation = lambda x, i: x.append(i)\n",
    "test_perf(list_perf, single_operation)"
   ]
  },
  {
   "cell_type": "code",
   "execution_count": 2,
   "metadata": {},
   "outputs": [],
   "source": [
    "# LinkedList"
   ]
  },
  {
   "cell_type": "code",
   "execution_count": 3,
   "metadata": {},
   "outputs": [
    {
     "name": "stdout",
     "output_type": "stream",
     "text": [
      "Double Linked List: head,tail;head,tail\n",
      "Double Linked List: head,1,tail;head,1,tail\n",
      "Double Linked List: head,2,1,tail;head,2,1,tail\n",
      "Double Linked List: head,2,1,3,tail;head,2,1,3,tail\n",
      "Double Linked List: head,2,1,3,4,tail;head,2,1,3,4,tail\n",
      "2\n",
      "Double Linked List: head,1,3,4,tail;head,1,3,4,tail\n",
      "4\n",
      "Double Linked List: head,1,3,tail;head,1,3,tail\n",
      "0.0012679100036621094 3.37638521194458\n"
     ]
    }
   ],
   "source": [
    "# Double Linked List\n",
    "\n",
    "class Node:\n",
    "    def __init__(self, val):\n",
    "        self.val = val\n",
    "        self.prev = None\n",
    "        self.next = None\n",
    "\n",
    "class DoubleLinkedList:\n",
    "    def __init__(self):\n",
    "        self.size = 0\n",
    "        self.head = Node('head')\n",
    "        self.tail = Node('tail')\n",
    "        self.head.next = self.tail\n",
    "        self.tail.prev = self.head\n",
    "\n",
    "    def __str__(self):\n",
    "        head_str = str(self.head.val)\n",
    "        p = self.head.next\n",
    "        while p:\n",
    "            head_str += ',' + str(p.val)\n",
    "            p = p.next\n",
    "        tail_str = str(self.tail.val)\n",
    "        p = self.tail.prev\n",
    "        while p:\n",
    "            tail_str = str(p.val) + ',' + tail_str\n",
    "            p = p.prev\n",
    "        return 'Double Linked List: ' + head_str + ';' + tail_str\n",
    "    \n",
    "    def insert_at_head(self, val):\n",
    "        node = Node(val)\n",
    "        node.next = self.head.next\n",
    "        node.prev = self.head\n",
    "        node.next.prev = node\n",
    "        node.prev.next = node\n",
    "    \n",
    "    def remove_at_head(self):\n",
    "        node = self.head.next\n",
    "        node.prev.next = node.next\n",
    "        node.next.prev = node.prev\n",
    "        node.prev = None\n",
    "        node.next = None\n",
    "        return node.val\n",
    "        \n",
    "    def insert_at_tail(self, val):\n",
    "        node = Node(val)\n",
    "        node.prev = self.tail.prev\n",
    "        node.next = self.tail\n",
    "        node.prev.next = node\n",
    "        node.next.prev = node\n",
    "        \n",
    "    def remove_at_tail(self):\n",
    "        node = self.tail.prev\n",
    "        node.prev.next = node.next\n",
    "        node.next.prev = node.prev\n",
    "        node.prev = None\n",
    "        node.next = None\n",
    "        return node.val\n",
    "\n",
    "dll = DoubleLinkedList()\n",
    "print(dll)\n",
    "dll.insert_at_head(1)\n",
    "print(dll)\n",
    "dll.insert_at_head(2)\n",
    "print(dll)\n",
    "dll.insert_at_tail(3)\n",
    "print(dll)\n",
    "dll.insert_at_tail(4)\n",
    "print(dll)\n",
    "print(dll.remove_at_head())\n",
    "print(dll)\n",
    "print(dll.remove_at_tail())\n",
    "print(dll)\n",
    "\n",
    "dll_perf = DoubleLinkedList()\n",
    "single_operation = lambda x, i: x.insert_at_head(i)\n",
    "test_perf(dll_perf, single_operation)"
   ]
  },
  {
   "cell_type": "code",
   "execution_count": 4,
   "metadata": {},
   "outputs": [
    {
     "name": "stdout",
     "output_type": "stream",
     "text": [
      "deque([])\n",
      "deque([1])\n",
      "deque([1, 2])\n",
      "deque([3, 1, 2])\n",
      "deque([4, 3, 1, 2])\n",
      "0.0001780986785888672 0.5013899803161621\n"
     ]
    }
   ],
   "source": [
    "# Deque\n",
    "\n",
    "# https://github.com/python/cpython/blob/master/Modules/_collectionsmodule.c\n",
    "\n",
    "from collections import deque\n",
    "dq = deque()\n",
    "print(dq)\n",
    "dq.append(1)\n",
    "print(dq)\n",
    "dq.append(2)\n",
    "print(dq)\n",
    "dq.appendleft(3)\n",
    "print(dq)\n",
    "dq.appendleft(4)\n",
    "print(dq)\n",
    "\n",
    "deque_perf = deque()\n",
    "single_operation = lambda x, i: x.append(i)\n",
    "test_perf(deque_perf, single_operation)"
   ]
  },
  {
   "cell_type": "code",
   "execution_count": 5,
   "metadata": {},
   "outputs": [
    {
     "name": "stdout",
     "output_type": "stream",
     "text": [
      "top None Stack: \n",
      "top 1 Stack: 1\n",
      "top 2 Stack: 1,2\n",
      "top 1 Stack: 1\n",
      "top None Stack: \n",
      "0.0006542205810546875 0.410552978515625\n"
     ]
    }
   ],
   "source": [
    "# Stack\n",
    "\n",
    "class Stack:\n",
    "    def __init__(self):\n",
    "        self.list = []\n",
    "    \n",
    "    def __str__(self):\n",
    "        return 'Stack: ' + ','.join([str(i) for i in self.list])\n",
    "    \n",
    "    def push(self, val):\n",
    "        self.list.append(val)\n",
    "    \n",
    "    def pop(self):\n",
    "        return self.list.pop()\n",
    "    \n",
    "    def top(self):\n",
    "        if len(self.list) == 0:\n",
    "            return None\n",
    "        return self.list[-1]\n",
    "\n",
    "stack = Stack()\n",
    "print('top', stack.top(), stack)\n",
    "stack.push(1)\n",
    "print('top', stack.top(), stack)\n",
    "stack.push(2)\n",
    "print('top', stack.top(), stack)\n",
    "stack.pop()\n",
    "print('top', stack.top(), stack)\n",
    "stack.pop()\n",
    "print('top', stack.top(), stack)\n",
    "\n",
    "stack_perf = Stack()\n",
    "single_operation = lambda x, i: x.push(i)\n",
    "test_perf(stack_perf, single_operation)"
   ]
  },
  {
   "cell_type": "code",
   "execution_count": 6,
   "metadata": {},
   "outputs": [
    {
     "name": "stdout",
     "output_type": "stream",
     "text": [
      "Queue: Double Linked List: head,tail;head,tail\n",
      "Queue: Double Linked List: head,1,tail;head,1,tail\n",
      "Queue: Double Linked List: head,1,2,tail;head,1,2,tail\n",
      "1\n",
      "Queue: Double Linked List: head,2,tail;head,2,tail\n",
      "2\n",
      "Queue: Double Linked List: head,tail;head,tail\n",
      "0.020233154296875 5.506231069564819\n"
     ]
    }
   ],
   "source": [
    "# Queue\n",
    "\n",
    "class Queue:\n",
    "    def __init__(self):\n",
    "        self.dll = DoubleLinkedList()\n",
    "\n",
    "    def __str__(self):\n",
    "        return 'Queue: ' + str(self.dll)\n",
    "    \n",
    "    def enqueue(self, val):\n",
    "        self.dll.insert_at_tail(val)\n",
    "    \n",
    "    def dequeue(self):\n",
    "        return self.dll.remove_at_head()\n",
    "        \n",
    "\n",
    "queue = Queue()\n",
    "print(queue)\n",
    "queue.enqueue(1)\n",
    "print(queue)\n",
    "queue.enqueue(2)\n",
    "print(queue)\n",
    "print(queue.dequeue())\n",
    "print(queue)\n",
    "print(queue.dequeue())\n",
    "print(queue)\n",
    "\n",
    "queue_perf = Queue()\n",
    "single_operation = lambda x, i: x.enqueue(i)\n",
    "test_perf(queue_perf, single_operation)"
   ]
  },
  {
   "cell_type": "code",
   "execution_count": null,
   "metadata": {},
   "outputs": [],
   "source": []
  }
 ],
 "metadata": {
  "kernelspec": {
   "display_name": "Python 3",
   "language": "python",
   "name": "python3"
  },
  "language_info": {
   "codemirror_mode": {
    "name": "ipython",
    "version": 3
   },
   "file_extension": ".py",
   "mimetype": "text/x-python",
   "name": "python",
   "nbconvert_exporter": "python",
   "pygments_lexer": "ipython3",
   "version": "3.8.0"
  }
 },
 "nbformat": 4,
 "nbformat_minor": 4
}
